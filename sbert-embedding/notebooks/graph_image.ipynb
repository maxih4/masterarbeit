{
 "cells": [
  {
   "metadata": {},
   "cell_type": "code",
   "source": [
    "from modules.rag_manager import RagManager\n",
    "from IPython.display import Image, display\n",
    "\n",
    "# create the RagManager\n",
    "ragManager = RagManager()\n",
    "\n",
    "# create the graph (async)\n",
    "graph = await ragManager.create_graph()\n",
    "\n",
    "# get PNG bytes\n",
    "png_bytes = graph.get_graph().draw_mermaid_png()\n",
    "\n",
    "# display the PNG in the notebook\n",
    "display(Image(png_bytes))\n"
   ],
   "id": "d5628668a2868fbe",
   "outputs": [],
   "execution_count": null
  },
  {
   "metadata": {},
   "cell_type": "code",
   "source": "",
   "id": "67a63a9b862dbfa9",
   "outputs": [],
   "execution_count": null
  }
 ],
 "metadata": {
  "kernelspec": {
   "display_name": "Python 3",
   "language": "python",
   "name": "python3"
  },
  "language_info": {
   "codemirror_mode": {
    "name": "ipython",
    "version": 2
   },
   "file_extension": ".py",
   "mimetype": "text/x-python",
   "name": "python",
   "nbconvert_exporter": "python",
   "pygments_lexer": "ipython2",
   "version": "2.7.6"
  }
 },
 "nbformat": 4,
 "nbformat_minor": 5
}
